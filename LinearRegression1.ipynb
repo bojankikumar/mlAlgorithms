{
 "cells": [
  {
   "cell_type": "code",
   "execution_count": 109,
   "metadata": {},
   "outputs": [],
   "source": [
    "import matplotlib.pyplot as plt \n",
    "import numpy as np \n",
    "from sklearn import datasets, linear_model, metrics \n"
   ]
  },
  {
   "cell_type": "code",
   "execution_count": 110,
   "metadata": {},
   "outputs": [],
   "source": [
    "boston = datasets.load_boston(return_X_y=False) "
   ]
  },
  {
   "cell_type": "code",
   "execution_count": 111,
   "metadata": {},
   "outputs": [
    {
     "data": {
      "text/plain": [
       "array([[6.3200e-03, 1.8000e+01, 2.3100e+00, ..., 1.5300e+01, 3.9690e+02,\n",
       "        4.9800e+00],\n",
       "       [2.7310e-02, 0.0000e+00, 7.0700e+00, ..., 1.7800e+01, 3.9690e+02,\n",
       "        9.1400e+00],\n",
       "       [2.7290e-02, 0.0000e+00, 7.0700e+00, ..., 1.7800e+01, 3.9283e+02,\n",
       "        4.0300e+00],\n",
       "       ...,\n",
       "       [6.0760e-02, 0.0000e+00, 1.1930e+01, ..., 2.1000e+01, 3.9690e+02,\n",
       "        5.6400e+00],\n",
       "       [1.0959e-01, 0.0000e+00, 1.1930e+01, ..., 2.1000e+01, 3.9345e+02,\n",
       "        6.4800e+00],\n",
       "       [4.7410e-02, 0.0000e+00, 1.1930e+01, ..., 2.1000e+01, 3.9690e+02,\n",
       "        7.8800e+00]])"
      ]
     },
     "execution_count": 111,
     "metadata": {},
     "output_type": "execute_result"
    }
   ],
   "source": [
    "boston.data\n"
   ]
  },
  {
   "cell_type": "code",
   "execution_count": 112,
   "metadata": {},
   "outputs": [
    {
     "data": {
      "text/plain": [
       "array([24. , 21.6, 34.7, 33.4, 36.2, 28.7, 22.9, 27.1, 16.5, 18.9, 15. ,\n",
       "       18.9, 21.7, 20.4, 18.2, 19.9, 23.1, 17.5, 20.2, 18.2, 13.6, 19.6,\n",
       "       15.2, 14.5, 15.6, 13.9, 16.6, 14.8, 18.4, 21. , 12.7, 14.5, 13.2,\n",
       "       13.1, 13.5, 18.9, 20. , 21. , 24.7, 30.8, 34.9, 26.6, 25.3, 24.7,\n",
       "       21.2, 19.3, 20. , 16.6, 14.4, 19.4, 19.7, 20.5, 25. , 23.4, 18.9,\n",
       "       35.4, 24.7, 31.6, 23.3, 19.6, 18.7, 16. , 22.2, 25. , 33. , 23.5,\n",
       "       19.4, 22. , 17.4, 20.9, 24.2, 21.7, 22.8, 23.4, 24.1, 21.4, 20. ,\n",
       "       20.8, 21.2, 20.3, 28. , 23.9, 24.8, 22.9, 23.9, 26.6, 22.5, 22.2,\n",
       "       23.6, 28.7, 22.6, 22. , 22.9, 25. , 20.6, 28.4, 21.4, 38.7, 43.8,\n",
       "       33.2, 27.5, 26.5, 18.6, 19.3, 20.1, 19.5, 19.5, 20.4, 19.8, 19.4,\n",
       "       21.7, 22.8, 18.8, 18.7, 18.5, 18.3, 21.2, 19.2, 20.4, 19.3, 22. ,\n",
       "       20.3, 20.5, 17.3, 18.8, 21.4, 15.7, 16.2, 18. , 14.3, 19.2, 19.6,\n",
       "       23. , 18.4, 15.6, 18.1, 17.4, 17.1, 13.3, 17.8, 14. , 14.4, 13.4,\n",
       "       15.6, 11.8, 13.8, 15.6, 14.6, 17.8, 15.4, 21.5, 19.6, 15.3, 19.4,\n",
       "       17. , 15.6, 13.1, 41.3, 24.3, 23.3, 27. , 50. , 50. , 50. , 22.7,\n",
       "       25. , 50. , 23.8, 23.8, 22.3, 17.4, 19.1, 23.1, 23.6, 22.6, 29.4,\n",
       "       23.2, 24.6, 29.9, 37.2, 39.8, 36.2, 37.9, 32.5, 26.4, 29.6, 50. ,\n",
       "       32. , 29.8, 34.9, 37. , 30.5, 36.4, 31.1, 29.1, 50. , 33.3, 30.3,\n",
       "       34.6, 34.9, 32.9, 24.1, 42.3, 48.5, 50. , 22.6, 24.4, 22.5, 24.4,\n",
       "       20. , 21.7, 19.3, 22.4, 28.1, 23.7, 25. , 23.3, 28.7, 21.5, 23. ,\n",
       "       26.7, 21.7, 27.5, 30.1, 44.8, 50. , 37.6, 31.6, 46.7, 31.5, 24.3,\n",
       "       31.7, 41.7, 48.3, 29. , 24. , 25.1, 31.5, 23.7, 23.3, 22. , 20.1,\n",
       "       22.2, 23.7, 17.6, 18.5, 24.3, 20.5, 24.5, 26.2, 24.4, 24.8, 29.6,\n",
       "       42.8, 21.9, 20.9, 44. , 50. , 36. , 30.1, 33.8, 43.1, 48.8, 31. ,\n",
       "       36.5, 22.8, 30.7, 50. , 43.5, 20.7, 21.1, 25.2, 24.4, 35.2, 32.4,\n",
       "       32. , 33.2, 33.1, 29.1, 35.1, 45.4, 35.4, 46. , 50. , 32.2, 22. ,\n",
       "       20.1, 23.2, 22.3, 24.8, 28.5, 37.3, 27.9, 23.9, 21.7, 28.6, 27.1,\n",
       "       20.3, 22.5, 29. , 24.8, 22. , 26.4, 33.1, 36.1, 28.4, 33.4, 28.2,\n",
       "       22.8, 20.3, 16.1, 22.1, 19.4, 21.6, 23.8, 16.2, 17.8, 19.8, 23.1,\n",
       "       21. , 23.8, 23.1, 20.4, 18.5, 25. , 24.6, 23. , 22.2, 19.3, 22.6,\n",
       "       19.8, 17.1, 19.4, 22.2, 20.7, 21.1, 19.5, 18.5, 20.6, 19. , 18.7,\n",
       "       32.7, 16.5, 23.9, 31.2, 17.5, 17.2, 23.1, 24.5, 26.6, 22.9, 24.1,\n",
       "       18.6, 30.1, 18.2, 20.6, 17.8, 21.7, 22.7, 22.6, 25. , 19.9, 20.8,\n",
       "       16.8, 21.9, 27.5, 21.9, 23.1, 50. , 50. , 50. , 50. , 50. , 13.8,\n",
       "       13.8, 15. , 13.9, 13.3, 13.1, 10.2, 10.4, 10.9, 11.3, 12.3,  8.8,\n",
       "        7.2, 10.5,  7.4, 10.2, 11.5, 15.1, 23.2,  9.7, 13.8, 12.7, 13.1,\n",
       "       12.5,  8.5,  5. ,  6.3,  5.6,  7.2, 12.1,  8.3,  8.5,  5. , 11.9,\n",
       "       27.9, 17.2, 27.5, 15. , 17.2, 17.9, 16.3,  7. ,  7.2,  7.5, 10.4,\n",
       "        8.8,  8.4, 16.7, 14.2, 20.8, 13.4, 11.7,  8.3, 10.2, 10.9, 11. ,\n",
       "        9.5, 14.5, 14.1, 16.1, 14.3, 11.7, 13.4,  9.6,  8.7,  8.4, 12.8,\n",
       "       10.5, 17.1, 18.4, 15.4, 10.8, 11.8, 14.9, 12.6, 14.1, 13. , 13.4,\n",
       "       15.2, 16.1, 17.8, 14.9, 14.1, 12.7, 13.5, 14.9, 20. , 16.4, 17.7,\n",
       "       19.5, 20.2, 21.4, 19.9, 19. , 19.1, 19.1, 20.1, 19.9, 19.6, 23.2,\n",
       "       29.8, 13.8, 13.3, 16.7, 12. , 14.6, 21.4, 23. , 23.7, 25. , 21.8,\n",
       "       20.6, 21.2, 19.1, 20.6, 15.2,  7. ,  8.1, 13.6, 20.1, 21.8, 24.5,\n",
       "       23.1, 19.7, 18.3, 21.2, 17.5, 16.8, 22.4, 20.6, 23.9, 22. , 11.9])"
      ]
     },
     "execution_count": 112,
     "metadata": {},
     "output_type": "execute_result"
    }
   ],
   "source": [
    "boston.target"
   ]
  },
  {
   "cell_type": "code",
   "execution_count": 113,
   "metadata": {},
   "outputs": [],
   "source": [
    "X = boston.data \n",
    "y = boston.target "
   ]
  },
  {
   "cell_type": "code",
   "execution_count": 114,
   "metadata": {},
   "outputs": [],
   "source": [
    "from sklearn.model_selection import train_test_split "
   ]
  },
  {
   "cell_type": "code",
   "execution_count": 115,
   "metadata": {},
   "outputs": [],
   "source": [
    "X_train, X_test, y_train, y_test = train_test_split(X, y, test_size=0.4, \n",
    "                                                    random_state=1) "
   ]
  },
  {
   "cell_type": "code",
   "execution_count": 116,
   "metadata": {},
   "outputs": [],
   "source": [
    "reg = linear_model.LinearRegression() "
   ]
  },
  {
   "cell_type": "code",
   "execution_count": 117,
   "metadata": {},
   "outputs": [
    {
     "data": {
      "text/plain": [
       "LinearRegression(copy_X=True, fit_intercept=True, n_jobs=None, normalize=False)"
      ]
     },
     "execution_count": 117,
     "metadata": {},
     "output_type": "execute_result"
    }
   ],
   "source": [
    "reg.fit(X_train, y_train) "
   ]
  },
  {
   "cell_type": "code",
   "execution_count": 118,
   "metadata": {},
   "outputs": [
    {
     "data": {
      "text/plain": [
       "array([-8.95714048e-02,  6.73132853e-02,  5.04649248e-02,  2.18579583e+00,\n",
       "       -1.72053975e+01,  3.63606995e+00,  2.05579939e-03, -1.36602886e+00,\n",
       "        2.89576718e-01, -1.22700072e-02, -8.34881849e-01,  9.40360790e-03,\n",
       "       -5.04008320e-01])"
      ]
     },
     "execution_count": 118,
     "metadata": {},
     "output_type": "execute_result"
    }
   ],
   "source": [
    "reg.coef_\n"
   ]
  },
  {
   "cell_type": "code",
   "execution_count": 119,
   "metadata": {},
   "outputs": [
    {
     "data": {
      "text/plain": [
       "0.7209056672661746"
      ]
     },
     "execution_count": 119,
     "metadata": {},
     "output_type": "execute_result"
    }
   ],
   "source": [
    "reg.score(X_test, y_test)\n"
   ]
  },
  {
   "cell_type": "code",
   "execution_count": null,
   "metadata": {},
   "outputs": [],
   "source": [
    "\n"
   ]
  },
  {
   "cell_type": "code",
   "execution_count": null,
   "metadata": {},
   "outputs": [],
   "source": []
  },
  {
   "cell_type": "code",
   "execution_count": 120,
   "metadata": {},
   "outputs": [],
   "source": [
    "prediction = reg.predict(X_test)"
   ]
  },
  {
   "cell_type": "code",
   "execution_count": null,
   "metadata": {},
   "outputs": [],
   "source": []
  },
  {
   "cell_type": "code",
   "execution_count": 121,
   "metadata": {},
   "outputs": [
    {
     "data": {
      "text/plain": [
       "array([32.5767836 , 28.31584043, 18.02490895, 21.22723902, 18.30706301,\n",
       "       20.41855673, 33.00388637, 18.23492365, 24.15996405, 26.44388935,\n",
       "       26.89587445, 29.11404673, 20.47403529, 26.72290735, 23.00917779,\n",
       "       20.06036007, 17.93614868, 38.60918158, 30.21848598,  8.72510853,\n",
       "       20.4218793 , 15.62926355, 25.14572116, 24.8208665 , 31.33254683,\n",
       "       10.32111619, 13.97300109, 16.59941009, 36.11111224, 14.50980925,\n",
       "       21.75924461, 14.18085506, 43.80568262, 18.29067878, 21.0769219 ,\n",
       "       20.36535011, 17.77192542, 27.41157074,  8.78516292, 19.77211274,\n",
       "       23.57601701, 21.48478378, 29.01124151, 16.29101185, 19.34443514,\n",
       "       14.72102079, 39.10168604, 18.15651807, 24.90906159, 19.6083671 ,\n",
       "       25.34392074, 24.35100549, 24.85160986, 25.8996609 ,  4.61421883,\n",
       "       24.39859206, 11.27077844, 26.40774218, 17.10969386, 36.0904063 ,\n",
       "       19.67664968, 27.23937264, 16.53365016, 18.15907977, 11.30355765,\n",
       "       31.98198816, 36.95839215, 21.45909144, 24.13250983, 24.41496302,\n",
       "       23.46245892,  6.98544199, 15.69004286, 20.90901803, 20.65100918,\n",
       "       21.09179956, 33.62584873, 27.8598505 , 25.06231279, 35.46695443,\n",
       "       19.31464639, 23.27640089, 34.32534674, 13.58758135, 21.29042943,\n",
       "       29.80515072, 17.35561076, 24.38496524, 18.98886858, 17.72392536,\n",
       "       27.41848903, 41.95804013, 14.32450982, 22.80526735, 14.58973366,\n",
       "       21.50406424, 23.47838791, 29.22720261, 37.22516161, 20.54563964,\n",
       "       16.4155803 , 18.21326206, 24.79190815, 22.25545086,  8.71421282,\n",
       "       21.20296216, 14.73006456, 31.54715088, 24.20086147, 25.3096051 ,\n",
       "       38.17624923, 28.22033166, 14.37458901, 35.30227817, 35.46142453,\n",
       "       32.87020186, 21.1279694 , 16.28659179, 35.03740942, 39.61343221,\n",
       "       20.6454664 , 15.3793382 , 27.47891053, 18.95323784, 27.53056862,\n",
       "       21.05405081, 25.42966851, 22.3802906 , 22.39038473, 28.45198817,\n",
       "       20.22140822, 23.97529302, 29.3329107 , 10.42025171, 27.15016037,\n",
       "       33.04900847, 14.17365766, 12.83532496, 33.72427748, 15.75277802,\n",
       "       18.74314445, 16.92420179, 17.25379375, 28.3965777 , 34.54366224,\n",
       "       20.48365583, 24.6039962 , 17.09621043, 27.88327386, 20.94139341,\n",
       "       33.84747506, 14.1550611 , 19.64551137, 19.15713668, 20.27286545,\n",
       "       32.31111862, 14.5293722 , 28.45970824, 22.89421306, 28.99015547,\n",
       "       34.07565321, 36.30114489, 24.33596177, 18.20586396, 18.66196259,\n",
       "       21.77461959, 26.82240611, 16.25068292, 15.71220696, 26.18366066,\n",
       "       22.38663042, 17.90882485, 14.97788993, 30.00806408, 18.79394999,\n",
       "       23.84446541, 33.24922009, 23.92154382, 35.84412917, 20.92896735,\n",
       "       22.89134963, 26.73756655, 17.04759586, 33.24629887, 13.39552963,\n",
       "       22.78231362, 20.38562111, 34.74095998, 21.57933645, 22.22992201,\n",
       "       20.74941001, 15.84277665, 22.51506659, 25.269853  , 22.36898011,\n",
       "       18.63792899, 32.47683751, 21.31930513, 34.81808291, 25.36978941,\n",
       "       18.81849169,  2.52098402, 24.88844846])"
      ]
     },
     "execution_count": 121,
     "metadata": {},
     "output_type": "execute_result"
    }
   ],
   "source": [
    "prediction\n"
   ]
  },
  {
   "cell_type": "code",
   "execution_count": 128,
   "metadata": {},
   "outputs": [
    {
     "data": {
      "text/plain": [
       "1.0"
      ]
     },
     "execution_count": 128,
     "metadata": {},
     "output_type": "execute_result"
    }
   ],
   "source": [
    "\n",
    "reg.score(X_test, prediction)"
   ]
  },
  {
   "cell_type": "code",
   "execution_count": 129,
   "metadata": {},
   "outputs": [
    {
     "name": "stdout",
     "output_type": "stream",
     "text": [
      "[32.5767836  28.31584043 18.02490895 21.22723902 18.30706301 20.41855673\n",
      " 33.00388637 18.23492365 24.15996405 26.44388935 26.89587445 29.11404673\n",
      " 20.47403529 26.72290735 23.00917779 20.06036007 17.93614868 38.60918158\n",
      " 30.21848598  8.72510853 20.4218793  15.62926355 25.14572116 24.8208665\n",
      " 31.33254683 10.32111619 13.97300109 16.59941009 36.11111224 14.50980925\n",
      " 21.75924461 14.18085506 43.80568262 18.29067878 21.0769219  20.36535011\n",
      " 17.77192542 27.41157074  8.78516292 19.77211274 23.57601701 21.48478378\n",
      " 29.01124151 16.29101185 19.34443514 14.72102079 39.10168604 18.15651807\n",
      " 24.90906159 19.6083671  25.34392074 24.35100549 24.85160986 25.8996609\n",
      "  4.61421883 24.39859206 11.27077844 26.40774218 17.10969386 36.0904063\n",
      " 19.67664968 27.23937264 16.53365016 18.15907977 11.30355765 31.98198816\n",
      " 36.95839215 21.45909144 24.13250983 24.41496302 23.46245892  6.98544199\n",
      " 15.69004286 20.90901803 20.65100918 21.09179956 33.62584873 27.8598505\n",
      " 25.06231279 35.46695443 19.31464639 23.27640089 34.32534674 13.58758135\n",
      " 21.29042943 29.80515072 17.35561076 24.38496524 18.98886858 17.72392536\n",
      " 27.41848903 41.95804013 14.32450982 22.80526735 14.58973366 21.50406424\n",
      " 23.47838791 29.22720261 37.22516161 20.54563964 16.4155803  18.21326206\n",
      " 24.79190815 22.25545086  8.71421282 21.20296216 14.73006456 31.54715088\n",
      " 24.20086147 25.3096051  38.17624923 28.22033166 14.37458901 35.30227817\n",
      " 35.46142453 32.87020186 21.1279694  16.28659179 35.03740942 39.61343221\n",
      " 20.6454664  15.3793382  27.47891053 18.95323784 27.53056862 21.05405081\n",
      " 25.42966851 22.3802906  22.39038473 28.45198817 20.22140822 23.97529302\n",
      " 29.3329107  10.42025171 27.15016037 33.04900847 14.17365766 12.83532496\n",
      " 33.72427748 15.75277802 18.74314445 16.92420179 17.25379375 28.3965777\n",
      " 34.54366224 20.48365583 24.6039962  17.09621043 27.88327386 20.94139341\n",
      " 33.84747506 14.1550611  19.64551137 19.15713668 20.27286545 32.31111862\n",
      " 14.5293722  28.45970824 22.89421306 28.99015547 34.07565321 36.30114489\n",
      " 24.33596177 18.20586396 18.66196259 21.77461959 26.82240611 16.25068292\n",
      " 15.71220696 26.18366066 22.38663042 17.90882485 14.97788993 30.00806408\n",
      " 18.79394999 23.84446541 33.24922009 23.92154382 35.84412917 20.92896735\n",
      " 22.89134963 26.73756655 17.04759586 33.24629887 13.39552963 22.78231362\n",
      " 20.38562111 34.74095998 21.57933645 22.22992201 20.74941001 15.84277665\n",
      " 22.51506659 25.269853   22.36898011 18.63792899 32.47683751 21.31930513\n",
      " 34.81808291 25.36978941 18.81849169  2.52098402 24.88844846]\n"
     ]
    }
   ],
   "source": [
    "print(prediction)"
   ]
  },
  {
   "cell_type": "code",
   "execution_count": 127,
   "metadata": {},
   "outputs": [
    {
     "data": {
      "image/png": "[encoded data removed]",
      "text/plain": [
       "<Figure size 432x288 with 1 Axes>"
      ]
     },
     "metadata": {
      "needs_background": "light"
     },
     "output_type": "display_data"
    }
   ],
   "source": [
    "plt.scatter(X_test[:,-1], prediction,color = 'b')\n",
    "plt.plot(X_test[:,-1], prediction, color ='g')\n",
    "plt.show()"
   ]
  },
  {
   "cell_type": "code",
   "execution_count": null,
   "metadata": {},
   "outputs": [],
   "source": []
  }
 ],
 "metadata": {
  "kernelspec": {
   "display_name": "aima",
   "language": "python",
   "name": "aima"
  },
  "language_info": {
   "codemirror_mode": {
    "name": "ipython",
    "version": 3
   },
   "file_extension": ".py",
   "mimetype": "text/x-python",
   "name": "python",
   "nbconvert_exporter": "python",
   "pygments_lexer": "ipython3",
   "version": "3.6.10"
  }
 },
 "nbformat": 4,
 "nbformat_minor": 1
}
